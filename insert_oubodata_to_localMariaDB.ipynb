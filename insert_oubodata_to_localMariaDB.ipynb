{
 "cells": [
  {
   "cell_type": "markdown",
   "metadata": {},
   "source": [
    "# e-Radの応募データから主要な項目を抽出して、ローカルのMariaDBに保存するプログラム"
   ]
  },
  {
   "cell_type": "markdown",
   "metadata": {},
   "source": [
    "e-Radの事務代表者アカウントから自機関の応募データをCSV形式でダウンロードできるのですが、そのままだとカラムが3452個もあります。研究分担者のあたりから後ろのカラムを手作業で削除してもいいのですが、ここでは、必要なカラムだけ自動で取り出して、ローカルのMariaDBに保存することにします。"
   ]
  },
  {
   "cell_type": "code",
   "execution_count": null,
   "metadata": {},
   "outputs": [],
   "source": [
    "import csv\n",
    "import pandas as pd\n",
    "import numpy as np\n",
    "import glob"
   ]
  },
  {
   "cell_type": "markdown",
   "metadata": {},
   "source": [
    "CSVファイルを読み込んで、主要な項目を取り出す関数です。"
   ]
  },
  {
   "cell_type": "code",
   "execution_count": null,
   "metadata": {},
   "outputs": [],
   "source": [
    "def read_erad_csv(filename):\n",
    "    with open(csvfile, 'r') as f:\n",
    "        reader = csv.reader(f)\n",
    "        header = next(reader)\n",
    "        header = next(reader)\n",
    "\n",
    "        oubolist = []\n",
    "        for row in reader:\n",
    "            oubo = [\n",
    "                row[1],\n",
    "                row[3],\n",
    "                row[5],\n",
    "                row[6],\n",
    "                row[7],\n",
    "                row[8],\n",
    "                row[9],\n",
    "                row[10],\n",
    "                row[11],\n",
    "                row[12],\n",
    "                row[13],\n",
    "                row[14],\n",
    "                row[18],\n",
    "                row[22],\n",
    "                row[45],\n",
    "                row[46],\n",
    "                row[47],\n",
    "                row[50],\n",
    "                row[51],\n",
    "                row[52],\n",
    "                row[53],\n",
    "                row[54],\n",
    "                row[55],\n",
    "            ]\n",
    "            oubolist.append(oubo)\n",
    "    df = pd.DataFrame(oubolist)\n",
    "    df.columns = [\n",
    "        'kadai_id',\n",
    "        'oubo_saitaku_bangou',\n",
    "        'nendo',\n",
    "        'seido_code',\n",
    "        'seidomei',\n",
    "        'jigyou_code',\n",
    "        'jigyoumei',\n",
    "        'koubo_group_code',\n",
    "        'koubo_groupmei',\n",
    "        'koubonendo',\n",
    "        'koubo_code',\n",
    "        'koubomei',\n",
    "        'kadaimei',\n",
    "        'gyoumu_main_status',\n",
    "        'kenkyuusha_id',\n",
    "        'shimeikanji_sei',\n",
    "        'shimeikanji_mei',\n",
    "        'kenkyuukikan_code',\n",
    "        'kenkyuukikanmei',\n",
    "        'bukyoku_code',\n",
    "        'bukyokumei',\n",
    "        'shokkai_code',\n",
    "        'yakushoku',\n",
    "    ]\n",
    "    \n",
    "    return df"
   ]
  },
  {
   "cell_type": "markdown",
   "metadata": {},
   "source": [
    "準備：空のデータフレームを作っておきます。"
   ]
  },
  {
   "cell_type": "code",
   "execution_count": null,
   "metadata": {},
   "outputs": [],
   "source": [
    "columns = [\n",
    "    'kadai_id',\n",
    "    'oubo_saitaku_bangou',\n",
    "    'nendo',\n",
    "    'seido_code',\n",
    "    'seidomei',\n",
    "    'jigyou_code',\n",
    "    'jigyoumei',\n",
    "    'koubo_group_code',\n",
    "    'koubo_groupmei',\n",
    "    'koubonendo',\n",
    "    'koubo_code',\n",
    "    'koubomei',\n",
    "    'kadaimei',\n",
    "    'gyoumu_main_status',\n",
    "    'kenkyuusha_id',\n",
    "    'shimeikanji_sei',\n",
    "    'shimeikanji_mei',\n",
    "    'kenkyuukikan_code',\n",
    "    'kenkyuukikanmei',\n",
    "    'bukyoku_code',\n",
    "    'bukyokumei',\n",
    "    'shokkai_code',\n",
    "    'yakushoku',\n",
    "]\n",
    "df = pd.DataFrame(columns=columns)"
   ]
  },
  {
   "cell_type": "markdown",
   "metadata": {},
   "source": [
    "カレントディレクトリの下に、rawdata_ouboという名前でフォルダを作って、そこに応募データのCSVファイルを置いておきます。自分は年度ごと（2006-2018）にCSVファイルを作って置いています。上記の関数を、CSVファイルの個数分ループさせて、ひとつの大きなデータフレームを作ります。"
   ]
  },
  {
   "cell_type": "code",
   "execution_count": null,
   "metadata": {},
   "outputs": [],
   "source": [
    "for csvfile in glob.glob('rawdata_oubo/*.csv'):\n",
    "    annual = read_erad_csv(filename=csvfile)\n",
    "    df = pd.concat([df, annual])\n",
    "\n",
    "df"
   ]
  },
  {
   "cell_type": "markdown",
   "metadata": {},
   "source": [
    "indexをリセットしておきます。"
   ]
  },
  {
   "cell_type": "code",
   "execution_count": null,
   "metadata": {},
   "outputs": [],
   "source": [
    "df = df.reset_index(drop=True)\n",
    "df"
   ]
  },
  {
   "cell_type": "markdown",
   "metadata": {},
   "source": [
    "データフレームの様子を見ておきます。"
   ]
  },
  {
   "cell_type": "code",
   "execution_count": null,
   "metadata": {
    "scrolled": true
   },
   "outputs": [],
   "source": [
    "df.info()"
   ]
  },
  {
   "cell_type": "markdown",
   "metadata": {},
   "source": [
    "年度のデータ型をintにしておきます。"
   ]
  },
  {
   "cell_type": "code",
   "execution_count": null,
   "metadata": {},
   "outputs": [],
   "source": [
    "df = df.astype({\n",
    "    'nendo': int,\n",
    "})\n",
    "df.info()"
   ]
  },
  {
   "cell_type": "markdown",
   "metadata": {},
   "source": [
    "ローカルのMariaDBに保存します"
   ]
  },
  {
   "cell_type": "code",
   "execution_count": null,
   "metadata": {},
   "outputs": [],
   "source": [
    "import configparser\n",
    "from sqlalchemy import create_engine\n",
    "from sqlalchemy.types import String, Integer\n",
    "\n",
    "config = configparser.ConfigParser()\n",
    "config.read('../settings/config.ini')\n",
    "username = config['mariadb']['username']\n",
    "password = config['mariadb']['password']\n",
    "database = config['mariadb']['database']\n",
    "url = 'mysql+pymysql://' + username + ':' + password + '@localhost:3306/' + database + '?charset=utf8'\n",
    "\n",
    "engine = create_engine(url, echo=True)\n",
    "df.to_sql('erad_oubo', engine, if_exists='replace')"
   ]
  },
  {
   "cell_type": "markdown",
   "metadata": {},
   "source": [
    "コミットされたことを確認して、おしまいです。"
   ]
  }
 ],
 "metadata": {
  "kernelspec": {
   "display_name": "Python 3",
   "language": "python",
   "name": "python3"
  },
  "language_info": {
   "codemirror_mode": {
    "name": "ipython",
    "version": 3
   },
   "file_extension": ".py",
   "mimetype": "text/x-python",
   "name": "python",
   "nbconvert_exporter": "python",
   "pygments_lexer": "ipython3",
   "version": "3.6.5"
  }
 },
 "nbformat": 4,
 "nbformat_minor": 2
}
